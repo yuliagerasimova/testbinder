{
 "cells": [
  {
   "cell_type": "code",
   "execution_count": 38,
   "id": "c4527ae9-7ec7-4809-ad01-3ce05b96d795",
   "metadata": {},
   "outputs": [
    {
     "data": {
      "application/vnd.jupyter.widget-view+json": {
       "model_id": "8b3f0284ff4d4954b03df42d22607977",
       "version_major": 2,
       "version_minor": 0
      },
      "text/plain": [
       "Output()"
      ]
     },
     "metadata": {},
     "output_type": "display_data"
    },
    {
     "data": {
      "application/vnd.jupyter.widget-view+json": {
       "model_id": "22d5b840dd574a3ab2bda9ca2a4fe2e5",
       "version_major": 2,
       "version_minor": 0
      },
      "text/plain": [
       "Button(description='download some shit', style=ButtonStyle())"
      ]
     },
     "metadata": {},
     "output_type": "display_data"
    },
    {
     "data": {
      "application/vnd.jupyter.widget-view+json": {
       "model_id": "6454d2ee235748bb98d4215c20f03b8e",
       "version_major": 2,
       "version_minor": 0
      },
      "text/plain": [
       "Button(description='download some excel', style=ButtonStyle())"
      ]
     },
     "metadata": {},
     "output_type": "display_data"
    }
   ],
   "source": [
    "from ipywidgets import Output, Button\n",
    "from IPython.display import HTML, clear_output\n",
    "from base64 import b64encode\n",
    "import pandas as pd\n",
    "import io\n",
    "\n",
    "df = pd.DataFrame([[0,0,0],[1,1,1]])\n",
    "download_output = Output()\n",
    "display(download_output)\n",
    "def trigger_download(text, filename, kind='text/json'):\n",
    "    # see https://developer.mozilla.org/en-US/docs/Web/HTTP/Basics_of_HTTP/Data_URIs for details\n",
    "    content_b64 = b64encode(text.encode()).decode()\n",
    "    data_url = f'data:{kind};charset=utf-8;base64,{content_b64}'\n",
    "    js_code = f\"\"\"\n",
    "        var a = document.createElement('a');\n",
    "        a.setAttribute('download', '{filename}');\n",
    "        a.setAttribute('href', '{data_url}');\n",
    "        a.click()\n",
    "    \"\"\"\n",
    "    print(js_code)\n",
    "    with download_output:\n",
    "        clear_output()\n",
    "        display(HTML(f'<script>{js_code}</script>'))\n",
    "\n",
    "btn = Button(description='download some shit')\n",
    "def download_shit(e=None):\n",
    "    trigger_download('shit', 'shit.txt', kind='text/plain')\n",
    "btn.on_click(download_shit)\n",
    "\n",
    "def trigger_download2(df, filename, kind='text/json'):\n",
    "    # see https://developer.mozilla.org/en-US/docs/Web/HTTP/Basics_of_HTTP/Data_URIs for details\n",
    "    #content_b64 = b64encode(text.encode()).decode()\n",
    "    with io.BytesIO() as b:\n",
    "        # Use the StringIO object as the filehandle.\n",
    "        writer = pd.ExcelWriter(b, engine = 'xlsxwriter')\n",
    "        df.to_excel(writer, sheet_name='Sheet1')\n",
    "        writer.close()\n",
    "        # Set up the Http response.\n",
    "        filename = '1.xlsx'\n",
    "        data_url = f'data:{kind};charset=utf-8;base64,{b64encode(b.getvalue())}'\n",
    "        js_code = f\"\"\"\n",
    "            var a = document.createElement('a');\n",
    "            a.setAttribute('download', '{filename}');\n",
    "            a.setAttribute('href', '{data_url.replace(\"b'\",\"\").replace(\"'\",\"\")}');\n",
    "        \"\"\"\n",
    "        with download_output:\n",
    "            clear_output()\n",
    "            display(HTML(f'<script>{js_code}</script>'))\n",
    "        \n",
    "btn2 = Button(description='download some excel')\n",
    "def download_shit2(e=None):\n",
    "    trigger_download2(df, '1.xlsx', kind='application/vnd.openxmlformats-officedocument.spreadsheetml.sheet')\n",
    "btn2.on_click(download_shit2)\n",
    "display(btn, btn2)"
   ]
  },
  {
   "cell_type": "code",
   "execution_count": null,
   "id": "f91694c6-b667-4579-9024-ef01c354d764",
   "metadata": {},
   "outputs": [],
   "source": []
  },
  {
   "cell_type": "code",
   "execution_count": null,
   "id": "35379e30-1323-45ef-aaae-6bf95b466723",
   "metadata": {},
   "outputs": [],
   "source": []
  }
 ],
 "metadata": {
  "kernelspec": {
   "display_name": "Python 3 (ipykernel)",
   "language": "python",
   "name": "python3"
  },
  "language_info": {
   "codemirror_mode": {
    "name": "ipython",
    "version": 3
   },
   "file_extension": ".py",
   "mimetype": "text/x-python",
   "name": "python",
   "nbconvert_exporter": "python",
   "pygments_lexer": "ipython3",
   "version": "3.9.13"
  }
 },
 "nbformat": 4,
 "nbformat_minor": 5
}
