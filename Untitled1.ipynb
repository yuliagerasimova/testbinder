{
 "cells": [
  {
   "cell_type": "code",
   "execution_count": 1,
   "id": "dc1a3766-4bee-4646-b8dc-2660248711be",
   "metadata": {},
   "outputs": [],
   "source": [
    "from tkinter import Tk, filedialog\n",
    "import pandas as pd\n",
    "\n",
    "root = Tk()\n",
    "f = filedialog.askopenfilename(initialdir=\"/\", title=\"Select file\", filetypes=((\"Text files\", \"*.txt\"), (\"All files\", \"*.*\")))\n",
    "root.destroy()\n",
    "\n"
   ]
  },
  {
   "cell_type": "code",
   "execution_count": null,
   "id": "6fb20ef9-d63f-458d-989b-2ac241867131",
   "metadata": {},
   "outputs": [],
   "source": [
    "df = pd.read_csv(f)\n",
    "df.head()"
   ]
  },
  {
   "cell_type": "code",
   "execution_count": null,
   "id": "5cd6a28c-2a75-43a4-9cb1-60ac46de042f",
   "metadata": {},
   "outputs": [],
   "source": []
  }
 ],
 "metadata": {
  "kernelspec": {
   "display_name": "Python 3 (ipykernel)",
   "language": "python",
   "name": "python3"
  },
  "language_info": {
   "codemirror_mode": {
    "name": "ipython",
    "version": 3
   },
   "file_extension": ".py",
   "mimetype": "text/x-python",
   "name": "python",
   "nbconvert_exporter": "python",
   "pygments_lexer": "ipython3",
   "version": "3.9.13"
  }
 },
 "nbformat": 4,
 "nbformat_minor": 5
}
