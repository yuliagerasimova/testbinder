{
 "cells": [
  {
   "cell_type": "code",
   "execution_count": 9,
   "id": "48a63aa3-d46c-4862-be24-c367f7314437",
   "metadata": {
    "editable": true,
    "slideshow": {
     "slide_type": ""
    },
    "tags": []
   },
   "outputs": [
    {
     "data": {
      "application/vnd.jupyter.widget-view+json": {
       "model_id": "67fecc346a83453ab8575cbca1e3e0ba",
       "version_major": 2,
       "version_minor": 0
      },
      "text/plain": [
       "FileUpload(value=(), accept='.txt, .csv', description='Upload')"
      ]
     },
     "metadata": {},
     "output_type": "display_data"
    },
    {
     "data": {
      "application/vnd.jupyter.widget-view+json": {
       "model_id": "7b42605f7d0c43e78bcbf5398aa426f1",
       "version_major": 2,
       "version_minor": 0
      },
      "text/plain": [
       "Output()"
      ]
     },
     "metadata": {},
     "output_type": "display_data"
    }
   ],
   "source": [
    "from ipywidgets import interact,widgets\n",
    "from ipywidgets import Button, Layout, Output\n",
    "import os\n",
    "import io\n",
    "import pandas as pd\n",
    "from IPython.display import HTML\n",
    "\n",
    "#Upload component\n",
    "upload = widgets.FileUpload(\n",
    "    description='Upload',\n",
    "    accept='.txt, .csv',  # E.g. '.txt', '.pdf', 'Image/*', 'Image/*, PDF'\n",
    "    multiple=False  # Whether to accept multi -file upload\n",
    ")\n",
    "def callback(change):\n",
    "    with output:\n",
    "        df = pd.read_csv(io.BytesIO(upload.value[0]['content'].tobytes()))\n",
    "        print(df.head())     \n",
    "        df.to_excel('12.xlsx')\n",
    "        display(HTML(f'<a href=./12.xlsx download>Скачать файл</a>'))\n",
    "\n",
    "upload.observe(callback, names=\"value\")\n",
    "output = widgets.Output()\n",
    "\n",
    "display(upload, output)"
   ]
  },
  {
   "cell_type": "code",
   "execution_count": null,
   "id": "e2aa1624-20cb-4a4c-ac03-d1dc5ff09a8f",
   "metadata": {},
   "outputs": [],
   "source": []
  }
 ],
 "metadata": {
  "kernelspec": {
   "display_name": "Python 3 (ipykernel)",
   "language": "python",
   "name": "python3"
  },
  "language_info": {
   "codemirror_mode": {
    "name": "ipython",
    "version": 3
   },
   "file_extension": ".py",
   "mimetype": "text/x-python",
   "name": "python",
   "nbconvert_exporter": "python",
   "pygments_lexer": "ipython3",
   "version": "3.9.13"
  }
 },
 "nbformat": 4,
 "nbformat_minor": 5
}
