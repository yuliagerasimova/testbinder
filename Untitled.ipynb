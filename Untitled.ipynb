{
 "cells": [
  {
   "cell_type": "code",
   "execution_count": 9,
   "id": "f5fe5961-5149-4f3a-92b2-6b0b31c419c9",
   "metadata": {},
   "outputs": [],
   "source": [
    "def fileread(value):\n",
    "    df = pd.read_csv(io.BytesIO(value[0]['content'].tobytes()))\n",
    "    return df"
   ]
  },
  {
   "cell_type": "code",
   "execution_count": 25,
   "id": "48a63aa3-d46c-4862-be24-c367f7314437",
   "metadata": {
    "editable": true,
    "slideshow": {
     "slide_type": ""
    },
    "tags": []
   },
   "outputs": [
    {
     "data": {
      "application/vnd.jupyter.widget-view+json": {
       "model_id": "f4cb38d96bc34e81bf3918a06bdfee61",
       "version_major": 2,
       "version_minor": 0
      },
      "text/plain": [
       "FileUpload(value=(), description='Upload')"
      ]
     },
     "metadata": {},
     "output_type": "display_data"
    }
   ],
   "source": [
    "import ipywidgets\n",
    "import pandas as pd\n",
    "import io\n",
    "#from time import sleep\n",
    "uploaded_file = ipywidgets.widgets.FileUpload(multiple=False)\n",
    "\n",
    "display(uploaded_file)\n",
    "\n",
    "\n"
   ]
  },
  {
   "cell_type": "code",
   "execution_count": 28,
   "id": "ce429518-015f-43ad-bf84-774d5252b3d1",
   "metadata": {},
   "outputs": [
    {
     "data": {
      "application/vnd.jupyter.widget-view+json": {
       "model_id": "d5ab303677e744608b7ec43ce180d9fd",
       "version_major": 2,
       "version_minor": 0
      },
      "text/plain": [
       "Button(description='Нажми меня!', style=ButtonStyle())"
      ]
     },
     "metadata": {},
     "output_type": "display_data"
    }
   ],
   "source": [
    "button1 = ipywidgets.Button(description=\"Нажми меня!\")\n",
    "\n",
    "def on_button_clicked():\n",
    "    print('8')\n",
    "    data = uploaded_file.value\n",
    "    \n",
    "    \n",
    "\n",
    "    df = pd.read_csv(io.BytesIO(data[0]['content'].tobytes()))    \n",
    "    print(df)\n",
    "\n",
    "display(button1)\n",
    "\n",
    "button1.on_click(on_button_clicked)"
   ]
  },
  {
   "cell_type": "code",
   "execution_count": null,
   "id": "f0050277-a597-402c-9982-9f5237e5100e",
   "metadata": {},
   "outputs": [],
   "source": []
  }
 ],
 "metadata": {
  "kernelspec": {
   "display_name": "Python 3 (ipykernel)",
   "language": "python",
   "name": "python3"
  },
  "language_info": {
   "codemirror_mode": {
    "name": "ipython",
    "version": 3
   },
   "file_extension": ".py",
   "mimetype": "text/x-python",
   "name": "python",
   "nbconvert_exporter": "python",
   "pygments_lexer": "ipython3",
   "version": "3.9.13"
  }
 },
 "nbformat": 4,
 "nbformat_minor": 5
}
