{
 "cells": [
  {
   "cell_type": "code",
   "execution_count": 5,
   "id": "48a63aa3-d46c-4862-be24-c367f7314437",
   "metadata": {
    "editable": true,
    "slideshow": {
     "slide_type": ""
    },
    "tags": []
   },
   "outputs": [
    {
     "data": {
      "application/vnd.jupyter.widget-view+json": {
       "model_id": "2790ec6c20974409964b0e96c5b42f7b",
       "version_major": 2,
       "version_minor": 0
      },
      "text/plain": [
       "FileUpload(value=(), accept='.txt, .csv', description='Upload')"
      ]
     },
     "metadata": {},
     "output_type": "display_data"
    },
    {
     "data": {
      "application/vnd.jupyter.widget-view+json": {
       "model_id": "9f0ce2a0c3ed44c4bcaa5fb0f8bf81d9",
       "version_major": 2,
       "version_minor": 0
      },
      "text/plain": [
       "Output()"
      ]
     },
     "metadata": {},
     "output_type": "display_data"
    }
   ],
   "source": [
    "from ipywidgets import interact,widgets\n",
    "from ipywidgets import Output, Button\n",
    "import io\n",
    "from IPython.display import HTML, clear_output\n",
    "from base64 import b64encode\n",
    "import pandas as pd\n",
    "import io\n",
    "\n",
    "#Upload component\n",
    "upload = widgets.FileUpload(\n",
    "    description='Upload',\n",
    "    accept='.txt, .csv',  # E.g. '.txt', '.pdf', 'Image/*', 'Image/*, PDF'\n",
    "    multiple=False  # Whether to accept multi -file upload\n",
    ")\n",
    "def callback(change):\n",
    "    with output:\n",
    "        global df\n",
    "        df = pd.read_csv(io.BytesIO(upload.value[0]['content'].tobytes()))\n",
    "        print(df.head())     \n",
    "        display(btn2)\n",
    "\n",
    "upload.observe(callback, names=\"value\")\n",
    "output = widgets.Output()\n",
    "\n",
    "display(upload, output)\n",
    "\n",
    "\n",
    "def trigger_download2(df, filename, kind='text/json'):\n",
    "    # see https://developer.mozilla.org/en-US/docs/Web/HTTP/Basics_of_HTTP/Data_URIs for details\n",
    "    #content_b64 = b64encode(text.encode()).decode()\n",
    "    with io.BytesIO() as b:\n",
    "        # Use the StringIO object as the filehandle.\n",
    "        writer = pd.ExcelWriter(b, engine = 'xlsxwriter')\n",
    "        df.to_excel(writer, sheet_name='Sheet1')\n",
    "        writer.close()\n",
    "        # Set up the Http response.\n",
    "        filename = '1.xlsx'\n",
    "        data_url = f'data:{kind};charset=utf-8;base64,{b64encode(b.getvalue())}'\n",
    "        js_code = f\"\"\"\n",
    "            var a = document.createElement('a');\n",
    "            a.setAttribute('download', '{filename}');\n",
    "            a.setAttribute('href', '{data_url.replace(\"b'\",\"\").replace(\"'\",\"\")}');\n",
    "            a.click()\n",
    "        \"\"\"\n",
    "        with output:\n",
    "            clear_output()\n",
    "            display(HTML(f'<script>{js_code}</script>'))\n",
    "        \n",
    "btn2 = Button(description='download some excel')\n",
    "def download_shit2(e=None):\n",
    "    trigger_download2(df, '1.xlsx', kind='application/vnd.openxmlformats-officedocument.spreadsheetml.sheet')\n",
    "btn2.on_click(download_shit2)"
   ]
  }
 ],
 "metadata": {
  "kernelspec": {
   "display_name": "Python 3 (ipykernel)",
   "language": "python",
   "name": "python3"
  },
  "language_info": {
   "codemirror_mode": {
    "name": "ipython",
    "version": 3
   },
   "file_extension": ".py",
   "mimetype": "text/x-python",
   "name": "python",
   "nbconvert_exporter": "python",
   "pygments_lexer": "ipython3",
   "version": "3.9.13"
  }
 },
 "nbformat": 4,
 "nbformat_minor": 5
}
